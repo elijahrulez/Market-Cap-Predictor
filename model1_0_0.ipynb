{
  "nbformat": 4,
  "nbformat_minor": 0,
  "metadata": {
    "colab": {
      "provenance": [],
      "authorship_tag": "ABX9TyP26VQ5bVKohBAH65CIARTt",
      "include_colab_link": true
    },
    "kernelspec": {
      "name": "python3",
      "display_name": "Python 3"
    },
    "language_info": {
      "name": "python"
    },
    "gpuClass": "standard"
  },
  "cells": [
    {
      "cell_type": "markdown",
      "metadata": {
        "id": "view-in-github",
        "colab_type": "text"
      },
      "source": [
        "<a href=\"https://colab.research.google.com/github/elijahrulez/Market-Cap-Predictor/blob/main/model1_0_0.ipynb\" target=\"_parent\"><img src=\"https://colab.research.google.com/assets/colab-badge.svg\" alt=\"Open In Colab\"/></a>"
      ]
    },
    {
      "cell_type": "code",
      "execution_count": 5,
      "metadata": {
        "colab": {
          "base_uri": "https://localhost:8080/"
        },
        "id": "_ZLMFyaQ5qGM",
        "outputId": "c6205ca0-1df4-4130-b1d8-b9875eb9adae"
      },
      "outputs": [
        {
          "output_type": "stream",
          "name": "stdout",
          "text": [
            "            Company Name    Industry                   Sector    HQ State  \\\n",
            "0             Apple Inc.  Technology     Consumer Electronics  California   \n",
            "1  Microsoft Corporation  Technology  Software Infrastructure  Washington   \n",
            "2      Alphabet (Google)  Technology  Software Infrastructure  California   \n",
            "3                 Amazon  Technology     Software Application  Washington   \n",
            "4     NVIDIA Corporation  Technology           Semiconductors  California   \n",
            "\n",
            "   Founding Year  Annual Revenue 2022-2023 (USD in Billions)  \\\n",
            "0           1976                                      387.53   \n",
            "1           1975                                      204.09   \n",
            "2           1998                                      282.83   \n",
            "3           1994                                      513.98   \n",
            "4           1993                                       26.97   \n",
            "\n",
            "   Market Cap (USD in Trillions) Stock Name  \\\n",
            "0                          2.520       AAPL   \n",
            "1                          2.037       MSFT   \n",
            "2                          1.350       GOOG   \n",
            "3                          1.030       AMZN   \n",
            "4                          0.653       NVDA   \n",
            "\n",
            "   Annual Income Tax in 2022-2023 (USD in Billions)  Employee Size  \n",
            "0                                            18.314         164000  \n",
            "1                                            15.139         221000  \n",
            "2                                            11.356         190234  \n",
            "3                                            -3.217        1541000  \n",
            "4                                             0.189          22473  \n"
          ]
        }
      ],
      "source": [
        "import pandas as pd\n",
        "\n",
        "# Load the data\n",
        "data = pd.read_csv('Top 50 US Tech Companies 2022 - 2023.csv')\n",
        "\n",
        "# Display the first five rows\n",
        "print(data.head())"
      ]
    },
    {
      "cell_type": "code",
      "source": [
        "import pandas as pd\n",
        "\n",
        "# Convert the list to a DataFrame\n",
        "data = pd.DataFrame(data)\n",
        "\n",
        "# Check for missing values\n",
        "print(data.isnull().sum())\n",
        "\n",
        "# Drop rows with missing values\n",
        "data = data.dropna()\n",
        "\n",
        "# Check for duplicates\n",
        "print(data.duplicated().sum())\n",
        "\n",
        "# Drop duplicates\n",
        "data = data.drop_duplicates()\n",
        "\n",
        "# Reset the index\n",
        "data = data.reset_index(drop=True)"
      ],
      "metadata": {
        "colab": {
          "base_uri": "https://localhost:8080/"
        },
        "id": "8NlYikXEOopB",
        "outputId": "8e780208-401a-4596-8b5a-50d50e444c17"
      },
      "execution_count": 6,
      "outputs": [
        {
          "output_type": "stream",
          "name": "stdout",
          "text": [
            "Company Name                                        0\n",
            "Industry                                            0\n",
            "Sector                                              0\n",
            "HQ State                                            0\n",
            "Founding Year                                       0\n",
            "Annual Revenue 2022-2023 (USD in Billions)          0\n",
            "Market Cap (USD in Trillions)                       0\n",
            "Stock Name                                          0\n",
            "Annual Income Tax in 2022-2023 (USD in Billions)    0\n",
            "Employee Size                                       0\n",
            "dtype: int64\n",
            "0\n"
          ]
        }
      ]
    },
    {
      "cell_type": "code",
      "source": [
        "# Generate summary statistics\n",
        "summary = data.describe()\n",
        "\n",
        "# Display the summary\n",
        "print(summary)"
      ],
      "metadata": {
        "colab": {
          "base_uri": "https://localhost:8080/"
        },
        "id": "OHd3eY32RHZ3",
        "outputId": "ef7cd877-4636-4e63-8d3b-f1235b7c1ffb"
      },
      "execution_count": 7,
      "outputs": [
        {
          "output_type": "stream",
          "name": "stdout",
          "text": [
            "       Founding Year  Annual Revenue 2022-2023 (USD in Billions)  \\\n",
            "count      50.000000                                    50.00000   \n",
            "mean     1984.140000                                    51.20440   \n",
            "std        24.988985                                    97.41288   \n",
            "min      1890.000000                                     2.06000   \n",
            "25%      1977.250000                                     7.65250   \n",
            "50%      1988.500000                                    17.66500   \n",
            "75%      1999.750000                                    40.81500   \n",
            "max      2012.000000                                   513.98000   \n",
            "\n",
            "       Market Cap (USD in Trillions)  \\\n",
            "count                      50.000000   \n",
            "mean                        0.252160   \n",
            "std                         0.490377   \n",
            "min                         0.028000   \n",
            "25%                         0.051250   \n",
            "50%                         0.082500   \n",
            "75%                         0.160250   \n",
            "max                         2.520000   \n",
            "\n",
            "       Annual Income Tax in 2022-2023 (USD in Billions)  Employee Size  \n",
            "count                                         50.000000   5.000000e+01  \n",
            "mean                                           1.386780   8.324962e+04  \n",
            "std                                            3.687916   2.205869e+05  \n",
            "min                                           -3.217000   2.993000e+03  \n",
            "25%                                            0.098750   1.415000e+04  \n",
            "50%                                            0.280500   2.472500e+04  \n",
            "75%                                            0.945000   7.015575e+04  \n",
            "max                                           18.314000   1.541000e+06  \n"
          ]
        }
      ]
    },
    {
      "cell_type": "code",
      "source": [
        "# Select only the numeric columns\n",
        "data_numeric = data.select_dtypes(include='number')\n",
        "\n",
        "# Calculate the mean\n",
        "mean = data_numeric.mean()\n",
        "\n",
        "# Calculate the standard deviation\n",
        "std = data_numeric.std()\n",
        "\n",
        "# Display the results\n",
        "print('Mean:')\n",
        "print(mean)\n",
        "print('Standard Deviation:')\n",
        "print(std)"
      ],
      "metadata": {
        "colab": {
          "base_uri": "https://localhost:8080/"
        },
        "id": "UzofFpUuRXwS",
        "outputId": "d73eac1f-0f5e-499b-e63f-aa4358c4b020"
      },
      "execution_count": 9,
      "outputs": [
        {
          "output_type": "stream",
          "name": "stdout",
          "text": [
            "Mean:\n",
            "Founding Year                                        1984.14000\n",
            "Annual Revenue 2022-2023 (USD in Billions)             51.20440\n",
            "Market Cap (USD in Trillions)                           0.25216\n",
            "Annual Income Tax in 2022-2023 (USD in Billions)        1.38678\n",
            "Employee Size                                       83249.62000\n",
            "dtype: float64\n",
            "Standard Deviation:\n",
            "Founding Year                                           24.988985\n",
            "Annual Revenue 2022-2023 (USD in Billions)              97.412880\n",
            "Market Cap (USD in Trillions)                            0.490377\n",
            "Annual Income Tax in 2022-2023 (USD in Billions)         3.687916\n",
            "Employee Size                                       220586.929174\n",
            "dtype: float64\n"
          ]
        }
      ]
    },
    {
      "cell_type": "code",
      "source": [
        "import pandas as pd\n",
        "\n",
        "# Load the data\n",
        "df = pd.read_csv('Top 50 US Tech Companies 2022 - 2023.csv')"
      ],
      "metadata": {
        "id": "3GhU24KKa63V"
      },
      "execution_count": 10,
      "outputs": []
    },
    {
      "cell_type": "code",
      "source": [
        "import matplotlib.pyplot as plt\n",
        "\n",
        "# Create a scatter plot\n",
        "plt.scatter(df['Annual Revenue 2022-2023 (USD in Billions)'], df['Market Cap (USD in Trillions)'])\n",
        "\n",
        "# Add labels and title\n",
        "plt.xlabel('Annual Revenue 2022-2023 (USD in Billions)')\n",
        "plt.ylabel('Market Cap (USD in Trillions)')\n",
        "plt.title('Scatter Plot of Annual Revenue vs Market Cap')\n",
        "\n",
        "# Show the plot\n",
        "plt.show()"
      ],
      "metadata": {
        "colab": {
          "base_uri": "https://localhost:8080/",
          "height": 472
        },
        "id": "oGOv8Eq4dOFj",
        "outputId": "40924e1d-13cb-41f9-88bc-b8ab6ddd4e83"
      },
      "execution_count": 11,
      "outputs": [
        {
          "output_type": "display_data",
          "data": {
            "text/plain": [
              "<Figure size 640x480 with 1 Axes>"
            ],
            "image/png": "[encoded data removed]"
          },
          "metadata": {}
        }
      ]
    },
    {
      "cell_type": "code",
      "source": [
        "from scipy.stats import pearsonr\n",
        "\n",
        "# Load the data\n",
        "data = pd.read_csv('Top 50 US Tech Companies 2022 - 2023.csv')\n",
        "\n",
        "# Calculate the Pearson correlation coefficient\n",
        "corr, _ = pearsonr(data['Annual Revenue 2022-2023 (USD in Billions)'], data['Market Cap (USD in Trillions)'])\n",
        "\n",
        "# Print the result\n",
        "print('Pearson correlation coefficient: %.3f' % corr)"
      ],
      "metadata": {
        "colab": {
          "base_uri": "https://localhost:8080/"
        },
        "id": "u_nxKgr-mQam",
        "outputId": "a0c0845e-a8f0-4b03-f8b7-0d28dbafbb67"
      },
      "execution_count": 12,
      "outputs": [
        {
          "output_type": "stream",
          "name": "stdout",
          "text": [
            "Pearson correlation coefficient: 0.807\n"
          ]
        }
      ]
    },
    {
      "cell_type": "code",
      "source": [
        "from sklearn.linear_model import LinearRegression\n",
        "\n",
        "# Load the data\n",
        "data = pd.read_csv('Top 50 US Tech Companies 2022 - 2023.csv')\n",
        "\n",
        "# Create the features and target arrays\n",
        "X = data['Annual Revenue 2022-2023 (USD in Billions)'].values.reshape(-1, 1)\n",
        "y = data['Market Cap (USD in Trillions)'].values\n",
        "\n",
        "# Create and fit the model\n",
        "model = LinearRegression()\n",
        "model.fit(X, y)\n",
        "\n",
        "# Print the coefficients\n",
        "print('Intercept: %.3f' % model.intercept_)\n",
        "print('Slope: %.3f' % model.coef_[0])"
      ],
      "metadata": {
        "colab": {
          "base_uri": "https://localhost:8080/"
        },
        "id": "fO9LTVo5oUNK",
        "outputId": "d49eabf0-b209-4988-f0d7-cb019a4147c4"
      },
      "execution_count": 13,
      "outputs": [
        {
          "output_type": "stream",
          "name": "stdout",
          "text": [
            "Intercept: 0.044\n",
            "Slope: 0.004\n"
          ]
        }
      ]
    },
    {
      "cell_type": "code",
      "source": [
        "from sklearn.linear_model import LinearRegression\n",
        "\n",
        "# Load the data\n",
        "data = pd.read_csv('Top 50 US Tech Companies 2022 - 2023.csv')\n",
        "\n",
        "# Create the features and target arrays\n",
        "X = data['Annual Revenue 2022-2023 (USD in Billions)'].values.reshape(-1, 1)\n",
        "y = data['Market Cap (USD in Trillions)'].values\n",
        "\n",
        "# Create and fit the model\n",
        "model = LinearRegression()\n",
        "model.fit(X, y)\n",
        "\n",
        "# Create an array of new annual revenue values\n",
        "new_X = [[150], [200], [250]]\n",
        "\n",
        "# Make predictions for the new annual revenue values\n",
        "predictions = model.predict(new_X)\n",
        "\n",
        "# Print the predictions\n",
        "print(predictions)"
      ],
      "metadata": {
        "colab": {
          "base_uri": "https://localhost:8080/"
        },
        "id": "TFfpZq0npAPO",
        "outputId": "e65bd9f4-194e-4a32-e86a-e862a61a5824"
      },
      "execution_count": 14,
      "outputs": [
        {
          "output_type": "stream",
          "name": "stdout",
          "text": [
            "[0.65350381 0.85662207 1.05974033]\n"
          ]
        }
      ]
    },
    {
      "cell_type": "code",
      "source": [
        "from sklearn.linear_model import LinearRegression\n",
        "from sklearn.metrics import mean_squared_error, r2_score\n",
        "\n",
        "# Load the data\n",
        "data = pd.read_csv('Top 50 US Tech Companies 2022 - 2023.csv')\n",
        "\n",
        "# Create the features and target arrays\n",
        "X = data['Annual Revenue 2022-2023 (USD in Billions)'].values.reshape(-1, 1)\n",
        "y = data['Market Cap (USD in Trillions)'].values\n",
        "\n",
        "# Create and fit the model\n",
        "model = LinearRegression()\n",
        "model.fit(X, y)\n",
        "\n",
        "# Make predictions for the training data\n",
        "y_pred = model.predict(X)\n",
        "\n",
        "# Calculate the R-squared value\n",
        "r2 = r2_score(y, y_pred)\n",
        "\n",
        "# Calculate the mean squared error\n",
        "mse = mean_squared_error(y, y_pred)\n",
        "\n",
        "# Print the results\n",
        "print('R-squared: %.3f' % r2)\n",
        "print('Mean squared error: %.3f' % mse)"
      ],
      "metadata": {
        "colab": {
          "base_uri": "https://localhost:8080/"
        },
        "id": "nI4PvD0qpnPw",
        "outputId": "aa4335e2-1d35-487f-f298-dbee0e1b6700"
      },
      "execution_count": 68,
      "outputs": [
        {
          "output_type": "stream",
          "name": "stdout",
          "text": [
            "R-squared: 0.651\n",
            "Mean squared error: 0.082\n"
          ]
        }
      ]
    },
    {
      "cell_type": "code",
      "source": [
        "from sklearn.linear_model import LinearRegression\n",
        "from sklearn.model_selection import GridSearchCV\n",
        "\n",
        "# Load the data\n",
        "data = pd.read_csv('Top 50 US Tech Companies 2022 - 2023.csv')\n",
        "\n",
        "# Create the features and target arrays\n",
        "X = data['Annual Revenue 2022-2023 (USD in Billions)'].values.reshape(-1, 1)\n",
        "y = data['Market Cap (USD in Trillions)'].values\n",
        "\n",
        "# Create the model\n",
        "model = LinearRegression()\n",
        "\n",
        "# Define the hyperparameter grid\n",
        "param_grid = {'fit_intercept': [True, False]}\n",
        "\n",
        "# Create the grid search object\n",
        "grid = GridSearchCV(model, param_grid, cv=5)\n",
        "\n",
        "# Fit the grid search object to the data\n",
        "grid.fit(X, y)\n",
        "\n",
        "# Print the best parameters\n",
        "print('Best parameters: %s' % grid.best_params_)"
      ],
      "metadata": {
        "colab": {
          "base_uri": "https://localhost:8080/"
        },
        "id": "WSETPidcqLxN",
        "outputId": "09988957-6814-49ea-ea09-dfe88a135745"
      },
      "execution_count": 15,
      "outputs": [
        {
          "output_type": "stream",
          "name": "stdout",
          "text": [
            "Best parameters: {'fit_intercept': False}\n"
          ]
        }
      ]
    },
    {
      "cell_type": "code",
      "source": [
        "from sklearn.linear_model import LinearRegression\n",
        "\n",
        "# Load the data\n",
        "data = pd.read_csv('Top 50 US Tech Companies 2022 - 2023.csv')\n",
        "\n",
        "# Create the features and target arrays\n",
        "X = data['Annual Revenue 2022-2023 (USD in Billions)'].values.reshape(-1, 1)\n",
        "y = data['Market Cap (USD in Trillions)'].values\n",
        "\n",
        "# Create and fit the model with fit_intercept=False\n",
        "model = LinearRegression(fit_intercept=False)\n",
        "model.fit(X, y)\n",
        "\n",
        "# Print the coefficients\n",
        "print('Intercept: %.3f' % model.intercept_)\n",
        "print('Slope: %.3f' % model.coef_[0])"
      ],
      "metadata": {
        "colab": {
          "base_uri": "https://localhost:8080/"
        },
        "id": "lFI1Q85utItR",
        "outputId": "03de56ff-8e64-4155-b56a-1af6c1287416"
      },
      "execution_count": 21,
      "outputs": [
        {
          "output_type": "stream",
          "name": "stdout",
          "text": [
            "Intercept: 0.000\n",
            "Slope: 0.004\n"
          ]
        }
      ]
    },
    {
      "cell_type": "code",
      "source": [
        "import numpy as np\n",
        "new_data = np.array([[100]])\n",
        "predicted_market_cap = model.predict(new_data)\n",
        "print('Predicted Market Cap: %.3f Trillion USD' % predicted_market_cap)"
      ],
      "metadata": {
        "colab": {
          "base_uri": "https://localhost:8080/"
        },
        "id": "-RctztGOAuU-",
        "outputId": "c0ec97c7-3b8a-46e4-9347-5011b1d640a3"
      },
      "execution_count": 23,
      "outputs": [
        {
          "output_type": "stream",
          "name": "stdout",
          "text": [
            "Predicted Market Cap: 0.425 Trillion USD\n"
          ]
        }
      ]
    },
    {
      "cell_type": "code",
      "source": [
        "new_data = np.array([[100], [200], [300]])\n",
        "predicted_market_cap = model.predict(new_data)\n",
        "print('Predicted Market Cap: ', predicted_market_cap)"
      ],
      "metadata": {
        "colab": {
          "base_uri": "https://localhost:8080/"
        },
        "id": "0bgn7V85C7YK",
        "outputId": "99e1c552-ff41-459d-a5d1-a2eb1734abc5"
      },
      "execution_count": 26,
      "outputs": [
        {
          "output_type": "stream",
          "name": "stdout",
          "text": [
            "Predicted Market Cap:  [0.4251993  0.85039861 1.27559791]\n"
          ]
        }
      ]
    },
    {
      "cell_type": "code",
      "source": [
        "from sklearn.metrics import mean_squared_error\n",
        "\n",
        "# Make predictions on the training data\n",
        "y_pred = model.predict(X)\n",
        "\n",
        "# Calculate the mean squared error\n",
        "mse = mean_squared_error(y, y_pred)\n",
        "print('Mean Squared Error: %.3f' % mse)"
      ],
      "metadata": {
        "colab": {
          "base_uri": "https://localhost:8080/"
        },
        "id": "dKTYGyYzDWu_",
        "outputId": "8c1667a3-04c0-44b5-fe74-25e7f78fdeef"
      },
      "execution_count": 28,
      "outputs": [
        {
          "output_type": "stream",
          "name": "stdout",
          "text": [
            "Mean Squared Error: 0.084\n"
          ]
        }
      ]
    },
    {
      "cell_type": "code",
      "source": [
        "from joblib import dump\n",
        "\n",
        "# Save the model to a file\n",
        "dump(model, 'linear_regression_model.joblib')"
      ],
      "metadata": {
        "colab": {
          "base_uri": "https://localhost:8080/"
        },
        "id": "G5izmqmVEf0S",
        "outputId": "c8541f11-6a3f-45d4-a3e4-cad36ab1ad67"
      },
      "execution_count": 32,
      "outputs": [
        {
          "output_type": "execute_result",
          "data": {
            "text/plain": [
              "['linear_regression_model.joblib']"
            ]
          },
          "metadata": {},
          "execution_count": 32
        }
      ]
    },
    {
      "cell_type": "code",
      "source": [
        "from joblib import load\n",
        "\n",
        "# Load the saved model\n",
        "model = load('linear_regression_model.joblib')"
      ],
      "metadata": {
        "id": "h7mfg3roEkCC"
      },
      "execution_count": 69,
      "outputs": []
    },
    {
      "cell_type": "code",
      "source": [
        "# Prompt the user to enter a new value for the feature variable\n",
        "new_value = float(input('Enter a new value for Annual Revenue (in Billions USD): '))\n",
        "\n",
        "# Create a new input array with the entered value\n",
        "new_data = np.array([[new_value]])\n",
        "\n",
        "# Make a prediction using the new input array\n",
        "predicted_market_cap = model.predict(new_data)\n",
        "\n",
        "# Print the predicted value\n",
        "print('Predicted Market Cap: %.3f Trillion USD' % predicted_market_cap)"
      ],
      "metadata": {
        "colab": {
          "base_uri": "https://localhost:8080/"
        },
        "id": "CXAty1rUF-qR",
        "outputId": "384b78e9-d470-496e-bf77-3ea2d32146fe"
      },
      "execution_count": 73,
      "outputs": [
        {
          "output_type": "stream",
          "name": "stdout",
          "text": [
            "Enter a new value for Annual Revenue (in Billions USD): 90\n",
            "Predicted Market Cap: 0.383 Trillion USD\n"
          ]
        }
      ]
    }
  ]
}